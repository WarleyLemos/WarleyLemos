{
  "nbformat": 4,
  "nbformat_minor": 0,
  "metadata": {
    "colab": {
      "provenance": [],
      "authorship_tag": "ABX9TyMBJHyvfaAHEuZCmpsL/Z8u",
      "include_colab_link": true
    },
    "kernelspec": {
      "name": "python3",
      "display_name": "Python 3"
    },
    "language_info": {
      "name": "python"
    }
  },
  "cells": [
    {
      "cell_type": "markdown",
      "metadata": {
        "id": "view-in-github",
        "colab_type": "text"
      },
      "source": [
        "<a href=\"https://colab.research.google.com/github/WarleyLemos/WarleyLemos/blob/main/Calculadora.ipynb\" target=\"_parent\"><img src=\"https://colab.research.google.com/assets/colab-badge.svg\" alt=\"Open In Colab\"/></a>"
      ]
    },
    {
      "cell_type": "code",
      "execution_count": 10,
      "metadata": {
        "colab": {
          "base_uri": "https://localhost:8080/"
        },
        "id": "VkQ9vjGqW_1b",
        "outputId": "22261635-81ba-4437-b6f9-96c9a8192a68"
      },
      "outputs": [
        {
          "output_type": "stream",
          "name": "stdout",
          "text": [
            "40\n"
          ]
        }
      ],
      "source": [
        "# calculadora\n",
        "\n",
        "def calculo(num1, num2, operacao):\n",
        " if(operacao == 1):\n",
        "  return num1 + num2\n",
        " elif(operacao == 2):\n",
        "  return num1 - num2\n",
        " elif(operacao == 3):\n",
        "  return num1 * num2\n",
        " elif(operacao == 4):\n",
        "  return num1 / num2\n",
        " else:\n",
        "  return 0\n",
        "\n",
        "resultado = calculo(5, 8, 3)\n",
        "print(resultado)"
      ]
    }
  ]
}