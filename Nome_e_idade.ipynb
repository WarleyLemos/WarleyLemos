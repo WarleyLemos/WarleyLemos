{
  "nbformat": 4,
  "nbformat_minor": 0,
  "metadata": {
    "colab": {
      "provenance": [],
      "authorship_tag": "ABX9TyMx2kI9rzD/9Guz8QDvw64o",
      "include_colab_link": true
    },
    "kernelspec": {
      "name": "python3",
      "display_name": "Python 3"
    },
    "language_info": {
      "name": "python"
    }
  },
  "cells": [
    {
      "cell_type": "markdown",
      "metadata": {
        "id": "view-in-github",
        "colab_type": "text"
      },
      "source": [
        "<a href=\"https://colab.research.google.com/github/WarleyLemos/WarleyLemos/blob/main/Nome_e_idade.ipynb\" target=\"_parent\"><img src=\"https://colab.research.google.com/assets/colab-badge.svg\" alt=\"Open In Colab\"/></a>"
      ]
    },
    {
      "cell_type": "code",
      "execution_count": 2,
      "metadata": {
        "colab": {
          "base_uri": "https://localhost:8080/"
        },
        "id": "eRgoIBbyedTQ",
        "outputId": "99259bc2-36f9-4f13-b3c8-fe68905527c6"
      },
      "outputs": [
        {
          "output_type": "stream",
          "name": "stdout",
          "text": [
            "Por favor, digite seu nome\n",
            "Warley\n",
            "Digite o ano em que você nasceu\n",
            "1950\n",
            "O usuário Warley Completará 72 Anos de idade em 2022\n"
          ]
        }
      ],
      "source": [
        "# programa que mostre o nome do usuário e sua idade\n",
        "\n",
        "print(\"Por favor, digite seu nome\")\n",
        "nome = input()\n",
        "\n",
        "executar = True\n",
        "\n",
        "while(executar == True):\n",
        " print(\"Digite o ano em que você nasceu\")\n",
        " try:\n",
        "  ano = int(input())\n",
        "  if (ano < 1922) or (ano > 2021):\n",
        "   print(\"Favor inserir uma data entre 1922 e 2021\")\n",
        "  else:\n",
        "   idade = 2022 - ano\n",
        "   print(\"O usuário\", nome, \"Completará\", idade, \"Anos de idade em 2022\")\n",
        "   executar = False\n",
        " except:\n",
        "  print(\"Os dados estão incorretos! Favor inserir em números\")"
      ]
    }
  ]
}