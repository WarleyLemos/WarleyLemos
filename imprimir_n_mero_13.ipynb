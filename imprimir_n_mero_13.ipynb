{
  "nbformat": 4,
  "nbformat_minor": 0,
  "metadata": {
    "colab": {
      "provenance": [],
      "authorship_tag": "ABX9TyOsQ6O+h7h6HYnaSHipH8Sc",
      "include_colab_link": true
    },
    "kernelspec": {
      "name": "python3",
      "display_name": "Python 3"
    },
    "language_info": {
      "name": "python"
    }
  },
  "cells": [
    {
      "cell_type": "markdown",
      "metadata": {
        "id": "view-in-github",
        "colab_type": "text"
      },
      "source": [
        "<a href=\"https://colab.research.google.com/github/WarleyLemos/WarleyLemos/blob/main/imprimir_n_mero_13.ipynb\" target=\"_parent\"><img src=\"https://colab.research.google.com/assets/colab-badge.svg\" alt=\"Open In Colab\"/></a>"
      ]
    },
    {
      "cell_type": "code",
      "execution_count": null,
      "metadata": {
        "colab": {
          "base_uri": "https://localhost:8080/"
        },
        "id": "oKfsxgbUBj1A",
        "outputId": "5d151508-3434-4a48-80d7-ddc5a6a00de2"
      },
      "outputs": [
        {
          "output_type": "stream",
          "name": "stdout",
          "text": [
            "1\n",
            "2\n",
            "3\n",
            "4\n",
            "5\n",
            "6\n",
            "7\n",
            "8\n",
            "9\n",
            "10\n",
            "11\n",
            "12\n",
            "14\n",
            "15\n",
            "16\n",
            "17\n",
            "18\n",
            "19\n",
            "20\n",
            "1\n",
            "2\n",
            "3\n",
            "4\n",
            "5\n",
            "6\n",
            "7\n",
            "8\n",
            "9\n",
            "10\n",
            "11\n",
            "12\n",
            "14\n",
            "15\n",
            "16\n",
            "17\n",
            "18\n",
            "19\n",
            "20\n",
            "20\n",
            "19\n",
            "18\n",
            "17\n",
            "16\n",
            "15\n",
            "14\n",
            "12\n",
            "11\n",
            "10\n",
            "9\n",
            "8\n",
            "7\n",
            "6\n",
            "5\n",
            "4\n",
            "3\n",
            "2\n",
            "1\n"
          ]
        }
      ],
      "source": [
        "# Imprimir tudo menos o número 13\n",
        "\n",
        "for i in range(1, 21):\n",
        " if(i == 13):\n",
        "  continue\n",
        " else:\n",
        "  print(i)\n",
        "\n",
        "# Imprimir todos os números exceto 13 (laço 'while')\n",
        "\n",
        "contador = 1\n",
        "while (contador <= 20):\n",
        " if(contador == 13):\n",
        "  contador = contador + 1\n",
        "  continue\n",
        " else:\n",
        "  print(contador)\n",
        "  contador = contador + 1\n",
        "\n",
        "# Imprimir todos os números exceto 13 (em ordem decrescente)\n",
        "\n",
        "for i in range(20, 0, -1):\n",
        " if(i == 13):\n",
        "  continue\n",
        " else:\n",
        "  print(i)"
      ]
    }
  ]
}